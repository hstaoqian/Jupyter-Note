{
 "cells": [
  {
   "cell_type": "markdown",
   "metadata": {},
   "source": [
    "### API是什么， 解决什么问题？\n",
    "\n",
    "### API一般接受什么输入， 返回什么数据类型？\n",
    "\n",
    "### 互联网上有哪些类型的API？他们为什么要把API开放出来？\n",
    "\n",
    "### 如何在程序中引入requests模块？\n",
    "\n",
    "### 如何使用request模块发送请求？\n",
    "\n",
    "### POST和GET是什么意思？如何用requests模块发送POST或者GET请求？\n",
    "\n",
    "### 如何获得API返回的数据？\n",
    "\n",
    "### 如何在Python中处理JSON数据？\n",
    "\n",
    "### JSON的来历是什么？为什么绝大多数API都选择以JSON的方式传递数据？\n",
    "\n"
   ]
  },
  {
   "cell_type": "code",
   "execution_count": null,
   "metadata": {
    "collapsed": true
   },
   "outputs": [],
   "source": []
  }
 ],
 "metadata": {
  "kernelspec": {
   "display_name": "Python 3",
   "language": "python",
   "name": "python3"
  },
  "language_info": {
   "codemirror_mode": {
    "name": "ipython",
    "version": 3
   },
   "file_extension": ".py",
   "mimetype": "text/x-python",
   "name": "python",
   "nbconvert_exporter": "python",
   "pygments_lexer": "ipython3",
   "version": "3.6.0"
  }
 },
 "nbformat": 4,
 "nbformat_minor": 2
}
